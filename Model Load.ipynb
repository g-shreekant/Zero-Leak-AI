{
 "cells": [
  {
   "cell_type": "code",
   "execution_count": 1,
   "id": "b7bfcfb6-fe31-425f-931b-7012cf41ee70",
   "metadata": {
    "tags": []
   },
   "outputs": [],
   "source": [
    "from transformers import AutoTokenizer, AutoModelForSeq2SeqLM\n",
    "from sentence_transformers import SentenceTransformer\n",
    "\n",
    "# Download flan-t5-large and save locally\n",
    "flan_model_path = \"./models/flan-t5-large\"\n",
    "tokenizer = AutoTokenizer.from_pretrained(\"google/flan-t5-large\")\n",
    "model = AutoModelForSeq2SeqLM.from_pretrained(\"google/flan-t5-large\")\n",
    "tokenizer.save_pretrained(flan_model_path)\n",
    "model.save_pretrained(flan_model_path)\n",
    "\n",
    "# Download all-MiniLM-L6-v2 embedding model\n",
    "SentenceTransformer(\"all-MiniLM-L6-v2\").save(\"./models/all-MiniLM-L6-v2\")\n"
   ]
  },
  {
   "cell_type": "code",
   "execution_count": null,
   "id": "0c2fa2c8-7cc4-43b7-9fc0-799e3d82ef48",
   "metadata": {},
   "outputs": [],
   "source": []
  }
 ],
 "metadata": {
  "kernelspec": {
   "display_name": "Python 3 (ipykernel)",
   "language": "python",
   "name": "python3"
  },
  "language_info": {
   "codemirror_mode": {
    "name": "ipython",
    "version": 3
   },
   "file_extension": ".py",
   "mimetype": "text/x-python",
   "name": "python",
   "nbconvert_exporter": "python",
   "pygments_lexer": "ipython3",
   "version": "3.11.5"
  }
 },
 "nbformat": 4,
 "nbformat_minor": 5
}
